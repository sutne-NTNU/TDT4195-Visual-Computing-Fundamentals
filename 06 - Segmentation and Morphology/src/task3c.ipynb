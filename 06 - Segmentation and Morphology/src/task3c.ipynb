{
 "cells": [
  {
   "cell_type": "markdown",
   "id": "42939e08",
   "metadata": {},
   "source": [
    "# Setup\n"
   ]
  },
  {
   "cell_type": "code",
   "execution_count": 1,
   "id": "9a54ee03",
   "metadata": {},
   "outputs": [],
   "source": [
    "import skimage.morphology as morph\n",
    "import numpy as np\n",
    "import utils\n"
   ]
  },
  {
   "cell_type": "markdown",
   "id": "046ac349",
   "metadata": {},
   "source": [
    "## Loading the image\n"
   ]
  },
  {
   "cell_type": "code",
   "execution_count": 2,
   "id": "5c9b1a07",
   "metadata": {},
   "outputs": [
    {
     "name": "stdout",
     "output_type": "stream",
     "text": [
      "Reading image: images/input/lincoln.png (269x221)\n"
     ]
    },
    {
     "data": {
      "image/png": "[encoded data removed]",
      "text/plain": [
       "<Figure size 288x288 with 1 Axes>"
      ]
     },
     "metadata": {
      "needs_background": "light"
     },
     "output_type": "display_data"
    }
   ],
   "source": [
    "im = utils.read_image(\"lincoln.png\")\n",
    "binary_image = im != 0\n",
    "utils.show_image(binary_image)\n"
   ]
  },
  {
   "cell_type": "markdown",
   "id": "c838faa8",
   "metadata": {},
   "source": [
    "# Task 3c\n",
    "\n",
    "Implement a function that extracts the boundary from a binary image, using: $A_{boundary} = A − (A ⊖ B)$\n"
   ]
  },
  {
   "cell_type": "code",
   "execution_count": 3,
   "id": "709f2616",
   "metadata": {},
   "outputs": [],
   "source": [
    "def extract_boundary(image: np.ndarray) -> np.ndarray:\n",
    "    structuring_element = np.ones((3, 3), dtype=bool)  # B\n",
    "    eroded = morph.binary_erosion(image, structuring_element)  # (A ⊖ B)\n",
    "    return image ^ eroded  # A − (A ⊖ B)\n"
   ]
  },
  {
   "cell_type": "markdown",
   "id": "619f4ec7",
   "metadata": {},
   "source": [
    "## Testing the function\n"
   ]
  },
  {
   "cell_type": "code",
   "execution_count": 4,
   "id": "24ecfe82",
   "metadata": {},
   "outputs": [
    {
     "name": "stdout",
     "output_type": "stream",
     "text": [
      "Saving image to: images/output/task3c.png\n"
     ]
    },
    {
     "data": {
      "image/png": "[encoded data removed]",
      "text/plain": [
       "<Figure size 288x288 with 1 Axes>"
      ]
     },
     "metadata": {
      "needs_background": "light"
     },
     "output_type": "display_data"
    }
   ],
   "source": [
    "boundary = extract_boundary(binary_image)\n",
    "\n",
    "assert (\n",
    "    boundary.shape == im.shape\n",
    "), f\"Expected image shape ({im.shape}) to be same as resulting image shape ({boundary.shape})\"\n",
    "assert (\n",
    "    boundary.dtype == np.bool\n",
    "), f\"Expected resulting image dtype to be np.bool. Was: {boundary.dtype}\"\n",
    "\n",
    "utils.show_image(boundary, save_as=\"task3c.png\")\n"
   ]
  }
 ],
 "metadata": {
  "interpreter": {
   "hash": "0adcc2737ebf6a4a119f135174df96668767fca1ef1112612db5ecadf2b6d608"
  },
  "kernelspec": {
   "display_name": "Python 3.8.1 64-bit",
   "language": "python",
   "name": "python3"
  },
  "language_info": {
   "codemirror_mode": {
    "name": "ipython",
    "version": 3
   },
   "file_extension": ".py",
   "mimetype": "text/x-python",
   "name": "python",
   "nbconvert_exporter": "python",
   "pygments_lexer": "ipython3",
   "version": "3.8.1"
  }
 },
 "nbformat": 4,
 "nbformat_minor": 5
}
