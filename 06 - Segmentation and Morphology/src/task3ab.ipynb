{
 "cells": [
  {
   "cell_type": "markdown",
   "id": "79b130be",
   "metadata": {},
   "source": [
    "# Setup\n"
   ]
  },
  {
   "cell_type": "code",
   "execution_count": 1,
   "id": "b34389d4",
   "metadata": {},
   "outputs": [],
   "source": [
    "import skimage.morphology as morph\n",
    "import numpy as np\n",
    "import utils\n"
   ]
  },
  {
   "cell_type": "markdown",
   "id": "49a21923",
   "metadata": {},
   "source": [
    "## Loading the image\n"
   ]
  },
  {
   "cell_type": "code",
   "execution_count": 2,
   "id": "a608bdac",
   "metadata": {},
   "outputs": [
    {
     "name": "stdout",
     "output_type": "stream",
     "text": [
      "Reading image: images/input/noisy.png (348x458)\n"
     ]
    },
    {
     "data": {
      "image/png": "[encoded data removed]",
      "text/plain": [
       "<Figure size 288x288 with 1 Axes>"
      ]
     },
     "metadata": {
      "needs_background": "light"
     },
     "output_type": "display_data"
    }
   ],
   "source": [
    "image = utils.read_image(\"noisy.png\")\n",
    "binary_image = image != 0\n",
    "utils.show_image(binary_image)\n"
   ]
  },
  {
   "cell_type": "markdown",
   "id": "e68e4072",
   "metadata": {},
   "source": [
    "# Task 3a\n",
    "\n",
    "Use what you know about erosion, dilation, opening, and closing to remove the noisy elements from the image.\n"
   ]
  },
  {
   "cell_type": "code",
   "execution_count": 3,
   "id": "247b5293",
   "metadata": {},
   "outputs": [],
   "source": [
    "def remove_noise(binary_image: np.ndarray) -> np.ndarray:\n",
    "    result = binary_image\n",
    "    structuring_element = morph.disk(8)\n",
    "\n",
    "    # Remove black noise inside triangle (close its holes)\n",
    "    result = morph.binary_closing(result, structuring_element)\n",
    "    # Remove the white noise outside triangle (\"open\" the white noise)\n",
    "    result = morph.binary_opening(result, structuring_element)\n",
    "\n",
    "    return result\n"
   ]
  },
  {
   "cell_type": "markdown",
   "id": "0e0f12f1",
   "metadata": {},
   "source": [
    "## Testing the function\n"
   ]
  },
  {
   "cell_type": "code",
   "execution_count": 4,
   "id": "25e3fe45",
   "metadata": {},
   "outputs": [
    {
     "name": "stdout",
     "output_type": "stream",
     "text": [
      "Saving image to: images/output/task3a.png\n"
     ]
    },
    {
     "data": {
      "image/png": "[encoded data removed]",
      "text/plain": [
       "<Figure size 288x288 with 1 Axes>"
      ]
     },
     "metadata": {
      "needs_background": "light"
     },
     "output_type": "display_data"
    }
   ],
   "source": [
    "noise_free_image = remove_noise(binary_image)\n",
    "\n",
    "assert (\n",
    "    image.shape == noise_free_image.shape\n",
    "), f\"Expected image shape ({image.shape}) to be same as resulting image shape ({noise_free_image.shape})\"\n",
    "assert (\n",
    "    noise_free_image.dtype == np.bool\n",
    "), f\"Expected resulting image dtype to be np.bool. Was: {noise_free_image.dtype}\"\n",
    "\n",
    "utils.show_image(noise_free_image, save_as=\"task3a.png\")\n"
   ]
  },
  {
   "cell_type": "markdown",
   "id": "83f8635b",
   "metadata": {},
   "source": [
    "# Task 3b\n",
    "\n",
    "Implement the distance transform using the erosion method explained below.\n",
    "\n",
    "> The distance transform is an operation typically applied on a binary image and creates a grayscale image where each foreground pixel shows the distance to the closest boundary pixel. The chessboard distance is the minimum number of moves a king has to perform to move from one square (or pixel in our case) to another square in the game of chess.\n",
    "\n",
    "> One inefficient way of calculating the distance transform is to use erosion. Intuitively, by using erosion the distance transform for a pixel is simply the number of erosion operations it took to remove it from the foreground of the original image.\n",
    "\n",
    "You can use a 3 × 3 structuring element of all ones to get chessboard distance.\n",
    "\n",
    "Test the function on the noise free binary image you got from task (a) and show the result in your report.\n"
   ]
  },
  {
   "cell_type": "code",
   "execution_count": 5,
   "id": "36882f82",
   "metadata": {},
   "outputs": [],
   "source": [
    "structuring_element = np.ones((3, 3), dtype=bool)\n"
   ]
  },
  {
   "cell_type": "code",
   "execution_count": 6,
   "id": "2e862ded",
   "metadata": {},
   "outputs": [],
   "source": [
    "def distance_transform(\n",
    "    binary_image: np.ndarray, structuring_element: np.ndarray\n",
    ") -> np.ndarray:\n",
    "\n",
    "    rows, columns = binary_image.shape\n",
    "    result = np.zeros((rows, columns), dtype=np.int32)\n",
    "    previous_iteration = binary_image\n",
    "    steps = 0\n",
    "    # continue until all pixels are 0\n",
    "    while previous_iteration.any():\n",
    "        steps += 1\n",
    "\n",
    "        # perform an erosion operation on the previous iteration\n",
    "        this_iteration = morph.binary_erosion(previous_iteration, structuring_element)\n",
    "\n",
    "        # Set value of pixels that were removed this iteration to the number of steps it took to remove it\n",
    "        for row in range(rows):\n",
    "            for column in range(columns):\n",
    "                if this_iteration[row, column] != previous_iteration[row, column]:\n",
    "                    result[row, column] = steps\n",
    "\n",
    "        previous_iteration = this_iteration\n",
    "\n",
    "    return result\n"
   ]
  },
  {
   "cell_type": "markdown",
   "id": "fb58fbff",
   "metadata": {},
   "source": [
    "## Testing the function\n"
   ]
  },
  {
   "cell_type": "code",
   "execution_count": 7,
   "id": "e1d772ac",
   "metadata": {},
   "outputs": [
    {
     "name": "stdout",
     "output_type": "stream",
     "text": [
      "Saving image to: images/output/task3b.png\n"
     ]
    },
    {
     "data": {
      "image/png": "[encoded data removed]",
      "text/plain": [
       "<Figure size 288x288 with 1 Axes>"
      ]
     },
     "metadata": {
      "needs_background": "light"
     },
     "output_type": "display_data"
    }
   ],
   "source": [
    "distance = distance_transform(noise_free_image, structuring_element)\n",
    "\n",
    "assert (\n",
    "    distance.shape == image.shape\n",
    "), f\"Expected image shape ({image.shape}) to be same as resulting image shape ({distance.shape})\"\n",
    "assert (\n",
    "    distance.dtype == np.int32\n",
    "), f\"Expected resulting image dtype to be np.int32. Was: {distance.dtype}\"\n",
    "\n",
    "utils.show_image(distance, save_as=\"task3b.png\")\n"
   ]
  }
 ],
 "metadata": {
  "interpreter": {
   "hash": "0adcc2737ebf6a4a119f135174df96668767fca1ef1112612db5ecadf2b6d608"
  },
  "kernelspec": {
   "display_name": "Python 3.8.1 64-bit",
   "language": "python",
   "name": "python3"
  },
  "language_info": {
   "codemirror_mode": {
    "name": "ipython",
    "version": 3
   },
   "file_extension": ".py",
   "mimetype": "text/x-python",
   "name": "python",
   "nbconvert_exporter": "python",
   "pygments_lexer": "ipython3",
   "version": "3.8.1"
  }
 },
 "nbformat": 4,
 "nbformat_minor": 5
}
