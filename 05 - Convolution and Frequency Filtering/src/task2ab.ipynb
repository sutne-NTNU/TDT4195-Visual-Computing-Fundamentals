{
 "cells": [
  {
   "cell_type": "markdown",
   "id": "relative-projector",
   "metadata": {},
   "source": [
    "# Setup"
   ]
  },
  {
   "cell_type": "code",
   "execution_count": 1,
   "id": "32700e7a",
   "metadata": {},
   "outputs": [],
   "source": [
    "import torch\n",
    "import torch.nn as nn\n",
    "import torchvision\n",
    "import numpy as np\n",
    "\n",
    "from util import utils\n",
    "from util import dataloaders\n",
    "from util.trainer import Trainer"
   ]
  },
  {
   "cell_type": "markdown",
   "id": "34d289e0",
   "metadata": {},
   "source": [
    "## Load Dataset"
   ]
  },
  {
   "cell_type": "code",
   "execution_count": 2,
   "id": "be2e5f3e",
   "metadata": {},
   "outputs": [
    {
     "name": "stdout",
     "output_type": "stream",
     "text": [
      "\n",
      "The tensor containing the images has shape:\n",
      "    batch size  = 64\n",
      "    channels    = 1\n",
      "    height      = 32\n",
      "    width       = 32\n",
      "    max value   = 1.0\n",
      "    min value   = -1.0\n",
      "\n"
     ]
    }
   ],
   "source": [
    "batch_size = 64\n",
    "\n",
    "image_transform = torchvision.transforms.Compose([\n",
    "    torchvision.transforms.Resize((32, 32)),\n",
    "    torchvision.transforms.ToTensor(),\n",
    "    torchvision.transforms.Normalize([0.5], [0.5])\n",
    "])\n",
    "\n",
    "dataloader_train, dataloader_test = dataloaders.load_dataset(batch_size, image_transform)\n",
    "images, _ = next(iter(dataloader_train))\n",
    "images = utils.to_cuda(images)\n",
    "batch_size, channels, height, width = images.shape\n",
    "print(f\"\"\"\n",
    "The tensor containing the images has shape:\n",
    "    batch size  = {batch_size}\n",
    "    channels    = {channels}\n",
    "    height      = {height}\n",
    "    width       = {width}\n",
    "    max value   = {images.max()}\n",
    "    min value   = {images.min()}\n",
    "\"\"\")"
   ]
  },
  {
   "cell_type": "markdown",
   "id": "8ad58ce7",
   "metadata": {},
   "source": [
    "### Hyperparameters"
   ]
  },
  {
   "cell_type": "code",
   "execution_count": 3,
   "id": "9a45cd0d",
   "metadata": {},
   "outputs": [],
   "source": [
    "learning_rate = .02\n",
    "num_epochs = 5"
   ]
  },
  {
   "cell_type": "markdown",
   "id": "heavy-thursday",
   "metadata": {},
   "source": [
    "### Loss Function"
   ]
  },
  {
   "cell_type": "code",
   "execution_count": 4,
   "id": "portable-transparency",
   "metadata": {},
   "outputs": [],
   "source": [
    "loss_function = torch.nn.CrossEntropyLoss()"
   ]
  },
  {
   "cell_type": "markdown",
   "id": "described-reader",
   "metadata": {},
   "source": [
    "# Task 2a\n",
    "Implement the network in Table 1. Report the final accuracy on the validation set for the trained network. Include a plot of the training and validation loss during training.\n",
    "By looking at the final train/validation loss/accuracy, do you see any evidence of overfitting? Shortly summarize your reasoning."
   ]
  },
  {
   "cell_type": "markdown",
   "id": "cosmetic-spending",
   "metadata": {},
   "source": [
    "# Create Model"
   ]
  },
  {
   "cell_type": "code",
   "execution_count": 5,
   "id": "6cbf24e4",
   "metadata": {},
   "outputs": [],
   "source": [
    "def create_model():\n",
    "    torch.random.manual_seed(0)\n",
    "    np.random.seed(0)\n",
    "    model = nn.Sequential(\n",
    "        # Layer 1\n",
    "        nn.Conv2d(1, 32, kernel_size=5, stride=1, padding=2),\n",
    "        nn.ReLU(),\n",
    "        nn.MaxPool2d(kernel_size=2, stride=2),\n",
    "        # Layer 2\n",
    "        nn.Conv2d(32, 64, kernel_size=3, stride=1, padding=1),\n",
    "        nn.ReLU(),\n",
    "        nn.MaxPool2d(kernel_size=2, stride=2),\n",
    "        # Layer 3\n",
    "        nn.Conv2d(64, 128, kernel_size=3, stride=1, padding=1),\n",
    "        nn.ReLU(),\n",
    "        nn.MaxPool2d(kernel_size=2, stride=2),\n",
    "        nn.Flatten(), \n",
    "        # Layer 4\n",
    "        nn.Linear(128 * 4 * 4, 64),\n",
    "        nn.ReLU(),\n",
    "        # Layer 5\n",
    "        nn.Linear(64, 10),\n",
    "        # nn.Softmax(dim=1),\n",
    "    )\n",
    "    model = utils.to_cuda(model)\n",
    "    utils.test_model_forward_pass(model, images, batch_size)\n",
    "    return model\n",
    "\n",
    "model = create_model()"
   ]
  },
  {
   "cell_type": "markdown",
   "id": "3aa69bc3",
   "metadata": {},
   "source": [
    "### Verifying the total number of parameters in the model"
   ]
  },
  {
   "cell_type": "code",
   "execution_count": 6,
   "id": "8d4a0fce",
   "metadata": {},
   "outputs": [
    {
     "name": "stdout",
     "output_type": "stream",
     "text": [
      "Trainable parameters: 224970\n"
     ]
    }
   ],
   "source": [
    "print(\"Trainable parameters:\", sum(p.numel() for p in model.parameters() if p.requires_grad))"
   ]
  },
  {
   "cell_type": "markdown",
   "id": "130595b1",
   "metadata": {},
   "source": [
    "# Train the Model"
   ]
  },
  {
   "cell_type": "code",
   "execution_count": 7,
   "id": "3d2daa9a",
   "metadata": {},
   "outputs": [
    {
     "name": "stderr",
     "output_type": "stream",
     "text": [
      "Training epoch 0: 100%|██████████| 937/937 [01:41<00:00,  9.22it/s]\n",
      "Training epoch 1: 100%|██████████| 937/937 [01:38<00:00,  9.48it/s]\n",
      "Training epoch 2: 100%|██████████| 937/937 [01:39<00:00,  9.40it/s]\n",
      "Training epoch 3: 100%|██████████| 937/937 [01:37<00:00,  9.56it/s]\n",
      "Training epoch 4: 100%|██████████| 937/937 [01:37<00:00,  9.57it/s]\n"
     ]
    }
   ],
   "source": [
    "trainer = Trainer(\n",
    "  model=model,\n",
    "  dataloader_train=dataloader_train,\n",
    "  dataloader_test=dataloader_test,\n",
    "  batch_size=batch_size,\n",
    "  loss_function=loss_function,\n",
    "  optimizer=torch.optim.SGD(model.parameters(), lr=learning_rate) # Stochastic Gradient Descent\n",
    ")\n",
    "train_loss, test_loss = trainer.train(num_epochs)"
   ]
  },
  {
   "cell_type": "code",
   "execution_count": 9,
   "id": "round-aaron",
   "metadata": {},
   "outputs": [
    {
     "name": "stdout",
     "output_type": "stream",
     "text": [
      "\n",
      "    Loss: 0.04\n",
      "Accuracy: 0.99\n",
      "\n"
     ]
    }
   ],
   "source": [
    "loss, accuracy = utils.compute_loss_and_accuracy(dataloader_test, model, loss_function)\n",
    "print(f\"\"\"\n",
    "    Loss: {loss:.2f}\n",
    "Accuracy: {accuracy:.2f}\n",
    "\"\"\")"
   ]
  },
  {
   "cell_type": "markdown",
   "id": "military-alliance",
   "metadata": {},
   "source": [
    "# Plot Results"
   ]
  },
  {
   "cell_type": "code",
   "execution_count": 10,
   "id": "87279975",
   "metadata": {},
   "outputs": [
    {
     "data": {
      "image/png": "[encoded data removed]",
      "text/plain": [
       "<Figure size 432x288 with 1 Axes>"
      ]
     },
     "metadata": {
      "needs_background": "light"
     },
     "output_type": "display_data"
    }
   ],
   "source": [
    "utils.plot_loss(train_loss, label=\"Train Loss\")\n",
    "utils.plot_loss(test_loss, label=\"Test Loss\")\n",
    "utils.show_and_save_loss_plot(\"task2a.png\")"
   ]
  },
  {
   "cell_type": "markdown",
   "id": "looking-orientation",
   "metadata": {},
   "source": [
    "# Task 2b\n",
    "The optimizer in pytorch is the method we use to update our gradients. Till now, we have used standard stochastic gradient descent (SGD). Understanding what the different optimizers do is out of the scope of this course, but we want to make you aware that they exist. \n",
    "\n",
    "Adam is one of the most popular optimizers currently. Change the SGD optimizer to Adam (use torch.optim.Adam instead of torch.optim.SGD), and train your model from scratch.\n",
    "Use a learning rate of 0.001.\n",
    "\n",
    "Plot the training/validation loss from both models (the model with Adam and the one with SGD) in the same graph and include this in your report. (Note, you should probably change the plt.ylim argument to [0, 0.1])."
   ]
  },
  {
   "cell_type": "code",
   "execution_count": 11,
   "id": "automated-clock",
   "metadata": {},
   "outputs": [],
   "source": [
    "model = create_model()"
   ]
  },
  {
   "cell_type": "code",
   "execution_count": 12,
   "id": "absent-reviewer",
   "metadata": {},
   "outputs": [
    {
     "name": "stderr",
     "output_type": "stream",
     "text": [
      "Training epoch 0: 100%|██████████| 937/937 [01:39<00:00,  9.38it/s]\n",
      "Training epoch 1: 100%|██████████| 937/937 [01:39<00:00,  9.41it/s]\n",
      "Training epoch 2: 100%|██████████| 937/937 [01:38<00:00,  9.49it/s]\n",
      "Training epoch 3: 100%|██████████| 937/937 [01:38<00:00,  9.50it/s]\n",
      "Training epoch 4: 100%|██████████| 937/937 [01:38<00:00,  9.50it/s]\n"
     ]
    }
   ],
   "source": [
    "trainer = Trainer(\n",
    "  model=model,\n",
    "  dataloader_train=dataloader_train,\n",
    "  dataloader_test=dataloader_test,\n",
    "  batch_size=batch_size,\n",
    "  loss_function=loss_function,\n",
    "  optimizer=torch.optim.Adam(model.parameters(), lr=0.001) # Adam\n",
    ")\n",
    "train_loss_adam, test_loss_adam = trainer.train(num_epochs)"
   ]
  },
  {
   "cell_type": "code",
   "execution_count": 13,
   "id": "hidden-camera",
   "metadata": {},
   "outputs": [
    {
     "name": "stdout",
     "output_type": "stream",
     "text": [
      "\n",
      "    Loss: 0.03\n",
      "Accuracy: 0.99\n",
      "\n"
     ]
    }
   ],
   "source": [
    "loss, accuracy = utils.compute_loss_and_accuracy(dataloader_test, model, loss_function)\n",
    "print(f\"\"\"\n",
    "    Loss: {loss:.2f}\n",
    "Accuracy: {accuracy:.2f}\n",
    "\"\"\")"
   ]
  },
  {
   "cell_type": "code",
   "execution_count": 14,
   "id": "precise-reserve",
   "metadata": {},
   "outputs": [
    {
     "data": {
      "image/png": "[encoded data removed]",
      "text/plain": [
       "<Figure size 432x288 with 1 Axes>"
      ]
     },
     "metadata": {
      "needs_background": "light"
     },
     "output_type": "display_data"
    }
   ],
   "source": [
    "utils.plot_loss(train_loss, label=\"SGD Train Loss\")\n",
    "utils.plot_loss(test_loss, label=\"SGD Test Loss\")\n",
    "utils.plot_loss(train_loss_adam, label=\"ADAM Train Loss\")\n",
    "utils.plot_loss(test_loss_adam, label=\"ADAM Test Loss\")\n",
    "utils.show_and_save_loss_plot(\"task2b.png\")"
   ]
  }
 ],
 "metadata": {
  "interpreter": {
   "hash": "0adcc2737ebf6a4a119f135174df96668767fca1ef1112612db5ecadf2b6d608"
  },
  "kernelspec": {
   "display_name": "Python 3.8.1 64-bit",
   "name": "python3"
  },
  "language_info": {
   "codemirror_mode": {
    "name": "ipython",
    "version": 3
   },
   "file_extension": ".py",
   "mimetype": "text/x-python",
   "name": "python",
   "nbconvert_exporter": "python",
   "pygments_lexer": "ipython3",
   "version": "3.8.1"
  }
 },
 "nbformat": 4,
 "nbformat_minor": 5
}
